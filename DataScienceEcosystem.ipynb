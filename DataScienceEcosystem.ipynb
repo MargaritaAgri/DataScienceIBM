{
 "cells": [
  {
   "cell_type": "code",
   "execution_count": 1,
   "id": "0bb815f8",
   "metadata": {},
   "outputs": [],
   "source": [
    "# Exercise 2: Create Markdown cell with title of the notebook"
   ]
  },
  {
   "cell_type": "markdown",
   "id": "c80fc526",
   "metadata": {},
   "source": [
    "# Data Science Tools and Ecosystem"
   ]
  },
  {
   "cell_type": "code",
   "execution_count": 2,
   "id": "ad60bbb6",
   "metadata": {},
   "outputs": [],
   "source": [
    "# Exercise 3: Create a markdown cell for an Introduction"
   ]
  },
  {
   "cell_type": "code",
   "execution_count": 18,
   "id": "99a9fcf7",
   "metadata": {},
   "outputs": [],
   "source": [
    "# Exercise 10: Insert a markdown cell to list objectives"
   ]
  },
  {
   "cell_type": "markdown",
   "id": "47679a53",
   "metadata": {},
   "source": [
    "In this notebook, Data Science Tools and Ecosystem are summarized"
   ]
  },
  {
   "cell_type": "markdown",
   "id": "e0b3f05f",
   "metadata": {},
   "source": [
    "**Objectives**"
   ]
  },
  {
   "cell_type": "markdown",
   "id": "179cf8ee",
   "metadata": {},
   "source": [
    "* Present popular languages for Data Science\n",
    "* Present most commom libraries for Data Science\n",
    "* Present most common tools for Data Science\n",
    "* Multiply and add integers"
   ]
  },
  {
   "cell_type": "code",
   "execution_count": 3,
   "id": "fcb2767a",
   "metadata": {},
   "outputs": [],
   "source": [
    "# Exercise 4: Create a markdown cell to list data science languages"
   ]
  },
  {
   "cell_type": "markdown",
   "id": "eb22e516",
   "metadata": {},
   "source": [
    "Among the data science languages are the following:\n",
    "1. Python\n",
    "2. R\n",
    "3. C++\n",
    "4. SQL\n",
    "5. Java\n",
    "6. Julia\n",
    "7. Scala"
   ]
  },
  {
   "cell_type": "code",
   "execution_count": 4,
   "id": "b8353e94",
   "metadata": {},
   "outputs": [],
   "source": [
    "# Exercise 5: Create a markdown cell to list data science libraries"
   ]
  },
  {
   "cell_type": "markdown",
   "id": "3476479b",
   "metadata": {},
   "source": [
    "Some of the most common used libraries used by Data Scientists include:\n",
    "1. Scikit-Learn\n",
    "2. Pandas\n",
    "3. NumPy\n",
    "4. Matplotlib\n",
    "5. Seaborn\n",
    "6. Keras\n"
   ]
  },
  {
   "cell_type": "code",
   "execution_count": 5,
   "id": "f8a82fc8",
   "metadata": {},
   "outputs": [],
   "source": [
    "# Exercise 6: Create a markdown cell with a table of Data Science Tools"
   ]
  },
  {
   "cell_type": "markdown",
   "id": "d79569c0",
   "metadata": {},
   "source": [
    "Data Science Tools|\n",
    "---|\n",
    "Jupyter Notebook|\n",
    "Spyder|\n",
    "VS Code|\n"
   ]
  },
  {
   "cell_type": "code",
   "execution_count": 9,
   "id": "62113fbc",
   "metadata": {},
   "outputs": [],
   "source": [
    "# Exercise 7: Create a markdown cell introducing arithmetic expressions in python"
   ]
  },
  {
   "cell_type": "markdown",
   "id": "f587f122",
   "metadata": {},
   "source": [
    "### Below are some examples of evaluating arithmetic expressions in Python"
   ]
  },
  {
   "cell_type": "code",
   "execution_count": 10,
   "id": "8965e096",
   "metadata": {},
   "outputs": [],
   "source": [
    "# Exercise 8: Create a code cell to multiply and add numbers"
   ]
  },
  {
   "cell_type": "code",
   "execution_count": 12,
   "id": "31ad03c1",
   "metadata": {},
   "outputs": [],
   "source": [
    "# This is a simple arithmetic expressions to multiply and then add integers"
   ]
  },
  {
   "cell_type": "code",
   "execution_count": 11,
   "id": "06b6ac77",
   "metadata": {},
   "outputs": [
    {
     "data": {
      "text/plain": [
       "17"
      ]
     },
     "execution_count": 11,
     "metadata": {},
     "output_type": "execute_result"
    }
   ],
   "source": [
    "(3*4)+5"
   ]
  },
  {
   "cell_type": "code",
   "execution_count": 13,
   "id": "b5a11713",
   "metadata": {},
   "outputs": [],
   "source": [
    "# Exercise 9: Create a code cell to convert minutes to hours"
   ]
  },
  {
   "cell_type": "code",
   "execution_count": 14,
   "id": "b56d557a",
   "metadata": {},
   "outputs": [],
   "source": [
    "# This will convert 200 minutes to hours by dividing by 60"
   ]
  },
  {
   "cell_type": "code",
   "execution_count": 15,
   "id": "77482f8d",
   "metadata": {},
   "outputs": [
    {
     "data": {
      "text/plain": [
       "3.3333333333333335"
      ]
     },
     "execution_count": 15,
     "metadata": {},
     "output_type": "execute_result"
    }
   ],
   "source": [
    "200/60"
   ]
  },
  {
   "cell_type": "code",
   "execution_count": 19,
   "id": "55715020",
   "metadata": {},
   "outputs": [],
   "source": [
    "# Exercise 11: Create a markdown cell to indicate the Author's name"
   ]
  },
  {
   "cell_type": "markdown",
   "id": "0320ea80",
   "metadata": {},
   "source": [
    "## Author\n",
    "Margarita"
   ]
  },
  {
   "cell_type": "code",
   "execution_count": null,
   "id": "a81944d0",
   "metadata": {},
   "outputs": [],
   "source": []
  }
 ],
 "metadata": {
  "kernelspec": {
   "display_name": "Python 3 (ipykernel)",
   "language": "python",
   "name": "python3"
  },
  "language_info": {
   "codemirror_mode": {
    "name": "ipython",
    "version": 3
   },
   "file_extension": ".py",
   "mimetype": "text/x-python",
   "name": "python",
   "nbconvert_exporter": "python",
   "pygments_lexer": "ipython3",
   "version": "3.9.13"
  }
 },
 "nbformat": 4,
 "nbformat_minor": 5
}
